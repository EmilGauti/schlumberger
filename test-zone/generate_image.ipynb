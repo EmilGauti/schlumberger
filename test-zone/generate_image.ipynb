{
 "cells": [
  {
   "cell_type": "code",
   "execution_count": 1,
   "metadata": {},
   "outputs": [
    {
     "data": {
      "text/plain": [
       "'\\nx=400\\ny=400\\nplt.imshow(makeCircle(size=400,r=10,center=[x,y]), interpolation=\\'none\\',cmap=\"gray\",vmin=0,vmax=1)\\nplt.show()\\nplt.imshow(makeGaussian(size=400,fwhm=10,center=[x,y]), interpolation=\\'none\\',cmap=\"gray\",vmin=0,vmax=1)\\nplt.show()\\n'"
      ]
     },
     "execution_count": 1,
     "metadata": {},
     "output_type": "execute_result"
    }
   ],
   "source": [
    "import numpy as np\n",
    "import matplotlib.pyplot as plt\n",
    "import random\n",
    "import scipy.ndimage as scp\n",
    "\n",
    "def makeGaussian(size, fwhm = 3, center=None):\n",
    "    \"\"\" Make a square gaussian kernel.\n",
    "\n",
    "    size is the length of a side of the square\n",
    "    fwhm is full-width-half-maximum, which\n",
    "    can be thought of as an effective radius.\n",
    "    \"\"\"\n",
    "\n",
    "    x = np.arange(0, size, 1, float)\n",
    "    y = x[:,np.newaxis]\n",
    "\n",
    "    if center is None:\n",
    "        x0 = y0 = size // 2\n",
    "    else:\n",
    "        x0 = center[0]\n",
    "        y0 = center[1]\n",
    "\n",
    "    return np.exp(-4*np.log(2) * ((x-x0)**2 + (y-y0)**2) / fwhm**2)\n",
    "def makeCircle(size, center, r=10):\n",
    "    x=center[0]\n",
    "    y=center[1]\n",
    "    arr = np.zeros([size,size])\n",
    "    for i in range(-r,r):\n",
    "        for j in range(-r,r):\n",
    "            dist=np.sqrt(i**2+j**2)\n",
    "            if dist<r:\n",
    "                if i+y>0 and i+y<size:\n",
    "                    if j+x>0 and j+x<size:\n",
    "                        arr[y+i,x+j] = 1\n",
    "    return arr\n",
    "\"\"\"\n",
    "x=400\n",
    "y=400\n",
    "plt.imshow(makeCircle(size=400,r=10,center=[x,y]), interpolation='none',cmap=\"gray\",vmin=0,vmax=1)\n",
    "plt.show()\n",
    "plt.imshow(makeGaussian(size=400,fwhm=10,center=[x,y]), interpolation='none',cmap=\"gray\",vmin=0,vmax=1)\n",
    "plt.show()\n",
    "\"\"\""
   ]
  },
  {
   "cell_type": "code",
   "execution_count": 2,
   "metadata": {},
   "outputs": [],
   "source": [
    "def generate_background(x_dim, y_dim):\n",
    "    my_dpi = 100\n",
    "    arr = np.zeros((x_dim,y_dim))\n",
    "    for i in range(20000):\n",
    "        x=random.randint(0-10,x_dim+10)\n",
    "        y=random.randint(0-10,x_dim+10)\n",
    "        \n",
    "        fwhm=10\n",
    "        arr=arr+makeGaussian(x_dim,fwhm=fwhm,center=[x,y])\n",
    "    arr = np.abs(arr - np.min(arr))/np.max(arr)\n",
    "    \n",
    "    #arr = np.where(arr<0.1,arr+random.random()*1/arr,arr)\n",
    "    #print(arr)\n",
    "    return arr\n",
    "\n"
   ]
  },
  {
   "cell_type": "code",
   "execution_count": 11,
   "metadata": {},
   "outputs": [],
   "source": [
    "from scipy import interpolate\n",
    "def generate_signal(arr,points_x=None,points_y=None,nr_lines=4,length=100,d_theta=0.5,signal_attenuation=2, pos_factor=1.2):\n",
    "    arr_pos = np.zeros_like(arr)\n",
    "    arr_neg = np.zeros_like(arr)\n",
    "    signal_mask = np.zeros_like(arr)\n",
    "    x_dim, y_dim = arr.shape\n",
    "\n",
    "    if points_x==None and points_y==None:\n",
    "        length=length + random.randint(-int(length/2),int(length/2))\n",
    "        theta = random.random()*2*np.pi\n",
    "        #d_theta=0.5\n",
    "        start_x = random.randint(50,x_dim-50)\n",
    "        start_y = random.randint(50,y_dim-50)\n",
    "        x=np.array([])\n",
    "        y=np.array([])\n",
    "        for i in range(nr_lines):\n",
    "            theta=theta+(random.random()-0.5)*2*d_theta\n",
    "            end_x = start_x + np.cos(theta)*length\n",
    "            end_y = start_y + np.sin(theta)*length\n",
    "            f = interpolate.interp1d([start_x,end_x], [start_y,end_y],kind=\"slinear\")\n",
    "            xnew = np.linspace(start_x, end_x, 2*length)\n",
    "            ynew = f(xnew)\n",
    "            x=np.append(x,xnew)\n",
    "            y=np.append(y,ynew)\n",
    "            start_x=end_x\n",
    "            start_y=end_y\n",
    "\n",
    "\n",
    "    for x1,y1 in zip(x,y):\n",
    "        y_n = int(y1+random.randint(-3,3))\n",
    "        x_n = int(x1+random.randint(-3,3))\n",
    "        arr_pos = arr_pos + makeGaussian(x_dim,fwhm=9,center=[x_n,y_n])\n",
    "        arr_neg = arr_neg - makeGaussian(x_dim,fwhm=10,center=[x_n,y_n])\n",
    "        signal_mask = signal_mask + makeCircle(x_dim,r=4,center=[x_n,y_n])\n",
    "        #arr_s=arr_s+1.2*makeGaussian(x_dim,fwhm=9,center=[x_n,y_n])-makeGaussian(x_dim,fwhm=10,center=[x_n,y_n])\n",
    "    arr_sum = pos_factor * arr_pos + arr_neg\n",
    "    arr_sum = arr_sum/(signal_attenuation * np.max(arr_sum))\n",
    "    #arr_pos = pos_factor * arr_pos/(np.max(arr_pos))\n",
    "    return arr_sum , signal_mask\n",
    "\n",
    "\n",
    "\n"
   ]
  },
  {
   "cell_type": "code",
   "execution_count": null,
   "metadata": {},
   "outputs": [],
   "source": [
    "from scipy import interpolate\n",
    "def generate_signal_junk(arr,points_x=None,points_y=None,nr_points=4):\n",
    "    arr_s = np.zeros_like(arr)\n",
    "    x_dim, y_dim = arr.shape\n",
    "    if points_x==None and points_y==None:\n",
    "        signal_length=random.randint(150,300)\n",
    "        start_x = random.randint(0,x_dim-signal_length)\n",
    "        start_y = random.randint(0,y_dim-signal_length)\n",
    "        points_x = np.unique(np.random.randint(start_x, start_x+signal_length,size=nr_points), axis=0)\n",
    "        #points_x = np.sort(points_x)\n",
    "        #points_y = np.unique(np.random.randint(start_y, start_y+signal_length,size=nr_points), axis=0)\n",
    "        points_y = np.random.randint(start_y, start_y+signal_length,size=len(points_x))\n",
    "        points_y = np.sort(points_y)\n",
    "    f = interpolate.interp1d(points_x, points_y,kind=\"slinear\")\n",
    "    xnew = np.arange(points_x[0], points_x[-1], 1)\n",
    "    ynew = f(xnew)\n",
    "\n",
    "    for x,y in zip(xnew,ynew):\n",
    "        y_n = int(y+random.randint(-4,4))\n",
    "        x_n = int(x+random.randint(-4,4))\n",
    "        \n",
    "        arr_s=arr_s+makeGaussian(x_dim,fwhm=10,center=[x_n,y_n])\n",
    "    arr_s = np.abs(arr_s - np.min(arr_s))/np.max(arr_s)\n",
    "    return arr_s\n",
    "\n"
   ]
  },
  {
   "cell_type": "code",
   "execution_count": 14,
   "metadata": {},
   "outputs": [
    {
     "data": {
      "image/png": "[encoded data removed]",
      "text/plain": [
       "<Figure size 432x288 with 1 Axes>"
      ]
     },
     "metadata": {
      "needs_background": "light"
     },
     "output_type": "display_data"
    }
   ],
   "source": [
    "\n",
    "for i in range(120,180):\n",
    "    arr=generate_background(400,400)\n",
    "    signal=np.zeros_like(arr)\n",
    "    signal_mask=np.zeros_like(arr)\n",
    "    nr_signals = random.randint(2,8) # nr of seperate lines to be spawned\n",
    "    for j in range(nr_signals):\n",
    "        nr_lines = random.randint(5,15) # nr of line segments\n",
    "        length = random.randint(10,50) # length of segments\n",
    "        d_theta = random.random() # size of the random angle multiple\n",
    "        signal_attenuation = 1 + random.random()*2 # How much to dampen the signal\n",
    "        pos_factor = 1.2 # The ratio between positive signal vs. negative\n",
    "\n",
    "        signal_tmp, signal_mask_tmp = generate_signal(arr=arr,\n",
    "                                                    nr_lines=nr_lines,\n",
    "                                                    length=length,\n",
    "                                                    d_theta=d_theta,\n",
    "                                                    signal_attenuation=signal_attenuation,\n",
    "                                                    pos_factor=pos_factor)\n",
    "        signal = signal + signal_tmp\n",
    "        signal_mask = signal_mask + signal_mask_tmp\n",
    "    arr =arr + signal\n",
    "    arr = scp.gaussian_filter(arr,2)\n",
    "    signal_mask = np.where(signal_mask>0,1,0)\n",
    "    #plt.subplot(1,2,1)\n",
    "    plt.imshow(arr, interpolation='none',cmap=\"gray\",vmin=-0.4,vmax=1.5)\n",
    "    plt.axis('off')\n",
    "    plt.savefig(\"simulated_data/\"+str(i)+\".png\", bbox_inches='tight')\n",
    "    #plt.show()\n",
    "    #plt.subplot(1,2,2)\n",
    "    plt.imshow(signal_mask, interpolation='none',cmap=\"gray\",vmin=0,vmax=1)\n",
    "    plt.axis('off')\n",
    "    plt.savefig(\"simulated_data/\"+str(i)+\"_target.png\", bbox_inches='tight')\n",
    "    #plt.show()\n",
    "\n"
   ]
  }
 ],
 "metadata": {
  "kernelspec": {
   "display_name": "Python 3.9.12 ('pytorch_m1')",
   "language": "python",
   "name": "python3"
  },
  "language_info": {
   "codemirror_mode": {
    "name": "ipython",
    "version": 3
   },
   "file_extension": ".py",
   "mimetype": "text/x-python",
   "name": "python",
   "nbconvert_exporter": "python",
   "pygments_lexer": "ipython3",
   "version": "3.9.12"
  },
  "orig_nbformat": 4,
  "vscode": {
   "interpreter": {
    "hash": "d59571596f882a307d598474a3566a4baf767754dc54be996ecdba4c1d043c29"
   }
  }
 },
 "nbformat": 4,
 "nbformat_minor": 2
}
